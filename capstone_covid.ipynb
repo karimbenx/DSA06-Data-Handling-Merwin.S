{
  "nbformat": 4,
  "nbformat_minor": 0,
  "metadata": {
    "colab": {
      "provenance": []
    },
    "kernelspec": {
      "name": "python3",
      "display_name": "Python 3"
    },
    "language_info": {
      "name": "python"
    }
  },
  "cells": [
    {
      "cell_type": "code",
      "execution_count": 20,
      "metadata": {
        "id": "JUoKxA2ZcHbv",
        "colab": {
          "base_uri": "https://localhost:8080/"
        },
        "outputId": "0ea2592f-0730-4442-f6cb-d3fbec8d2573"
      },
      "outputs": [
        {
          "output_type": "stream",
          "name": "stdout",
          "text": [
            "Highest Risk Country: United States of America\n",
            "Lowest Risk Country: Saint-Barthélemy\n",
            "High-risk instructions: <h3>High-Risk Countries</h3><p>United States of America: Travel to these countries is not recommended. Quarantine measures are advised for travelers returning from these countries.</p>\n",
            "Low-risk instructions: <h3>Low-Risk Countries</h3><p>Saint-Barthélemy: Travel to these countries is relatively safe, but adhere to preventive measures such as wearing masks and practicing social distancing.</p>\n"
          ]
        },
        {
          "output_type": "stream",
          "name": "stderr",
          "text": [
            "<ipython-input-20-45222c9146f1>:12: SettingWithCopyWarning: \n",
            "A value is trying to be set on a copy of a slice from a DataFrame.\n",
            "Try using .loc[row_indexer,col_indexer] = value instead\n",
            "\n",
            "See the caveats in the documentation: https://pandas.pydata.org/pandas-docs/stable/user_guide/indexing.html#returning-a-view-versus-a-copy\n",
            "  covid_data['Date'] = pd.to_datetime(covid_data['Date'])\n",
            "<ipython-input-20-45222c9146f1>:15: SettingWithCopyWarning: \n",
            "A value is trying to be set on a copy of a slice from a DataFrame.\n",
            "Try using .loc[row_indexer,col_indexer] = value instead\n",
            "\n",
            "See the caveats in the documentation: https://pandas.pydata.org/pandas-docs/stable/user_guide/indexing.html#returning-a-view-versus-a-copy\n",
            "  covid_data['CumulativePositive'] = pd.to_numeric(covid_data['CumulativePositive'], errors='coerce')\n",
            "<ipython-input-20-45222c9146f1>:18: SettingWithCopyWarning: \n",
            "A value is trying to be set on a copy of a slice from a DataFrame\n",
            "\n",
            "See the caveats in the documentation: https://pandas.pydata.org/pandas-docs/stable/user_guide/indexing.html#returning-a-view-versus-a-copy\n",
            "  covid_data.dropna(subset=['lat', 'lon', 'CumulativePositive'], inplace=True)\n"
          ]
        }
      ],
      "source": [
        "import pandas as pd\n",
        "import folium\n",
        "from folium.plugins import HeatMap\n",
        "\n",
        "# Read the CSV file into a DataFrame\n",
        "data = pd.read_csv('/content/COVID-19.csv')\n",
        "\n",
        "# Filter relevant columns for COVID-19 data\n",
        "covid_data = data[['Date', 'CountryName', 'lat', 'lon', 'CumulativePositive']]\n",
        "\n",
        "# Convert 'Date' column to datetime format\n",
        "covid_data['Date'] = pd.to_datetime(covid_data['Date'])\n",
        "\n",
        "# Ensure 'CumulativePositive' column is numeric\n",
        "covid_data['CumulativePositive'] = pd.to_numeric(covid_data['CumulativePositive'], errors='coerce')\n",
        "\n",
        "# Drop rows with NaN values in 'lat', 'lon', or 'CumulativePositive' columns\n",
        "covid_data.dropna(subset=['lat', 'lon', 'CumulativePositive'], inplace=True)\n",
        "\n",
        "# Group by 'CountryName' and sum the numeric columns\n",
        "covid_data = covid_data.groupby('CountryName').agg({\n",
        "    'Date': 'first',\n",
        "    'lat': 'mean',\n",
        "    'lon': 'mean',\n",
        "    'CumulativePositive': 'sum'\n",
        "}).reset_index()\n",
        "\n",
        "# Calculate cases per capita\n",
        "# Since population data is not available, we will not calculate cases per capita\n",
        "\n",
        "# Print the highest and lowest risk countries\n",
        "highest_risk_country = covid_data.groupby('CountryName')['CumulativePositive'].sum().idxmax()\n",
        "lowest_risk_country = covid_data.groupby('CountryName')['CumulativePositive'].sum().idxmin()\n",
        "print(\"Highest Risk Country:\", highest_risk_country)\n",
        "print(\"Lowest Risk Country:\", lowest_risk_country)\n",
        "\n",
        "# Create a folium map centered around the mean latitude and longitude\n",
        "map = folium.Map(location=[covid_data['lat'].mean(), covid_data['lon'].mean()], zoom_start=3)\n",
        "\n",
        "# Create a HeatMap layer\n",
        "heatmap_data = covid_data[['lat', 'lon', 'CumulativePositive']].values.tolist()\n",
        "folium.TileLayer('cartodbpositron').add_to(map)  # Optional: Add a basemap\n",
        "HeatMap(heatmap_data).add_to(map)\n",
        "\n",
        "# Save the map as an HTML file\n",
        "map.save(\"covid_heatmap.html\")\n",
        "\n",
        "# Add instructions for high-risk and low-risk countries to the HTML file\n",
        "high_risk_instructions = f\"<h3>High-Risk Countries</h3><p>{highest_risk_country}: Travel to these countries is not recommended. Quarantine measures are advised for travelers returning from these countries.</p>\"\n",
        "low_risk_instructions = f\"<h3>Low-Risk Countries</h3><p>{lowest_risk_country}: Travel to these countries is relatively safe, but adhere to preventive measures such as wearing masks and practicing social distancing.</p>\"\n",
        "\n",
        "print(\"High-risk instructions:\", high_risk_instructions)\n",
        "print(\"Low-risk instructions:\", low_risk_instructions)\n",
        "\n",
        "with open(\"covid_heatmap.html\", \"a\") as file:\n",
        "    file.write(high_risk_instructions)\n",
        "    file.write(low_risk_instructions)\n"
      ]
    }
  ]
}